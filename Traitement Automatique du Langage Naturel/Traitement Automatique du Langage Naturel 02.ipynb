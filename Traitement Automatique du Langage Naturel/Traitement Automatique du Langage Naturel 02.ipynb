{
 "cells": [
  {
   "cell_type": "markdown",
   "metadata": {},
   "source": [
    "# Traitement Automatique du Langage Naturel 02"
   ]
  },
  {
   "cell_type": "markdown",
   "metadata": {},
   "source": [
    "## Enoncé :\n",
    "En utilisant les deux fichiers Text_data_1.txt et Text_data_2.txt donnés en TP, donnez le code source\n",
    "en python en suivant les instructions suivantes :\n",
    "\n",
    "1. Importez spaCy et chargez le modèle en_core_web_sm qu'on nommera nlp\n",
    "\n",
    "2. Importez matplotlib.pyplot as plt afin d'aficher des figures\n",
    "\n",
    "3. Définissez une petite fonction nommée get_word_vectors qui retourne la forme vectorielle d'une liste de mots donnés en entrée, ex : utilisez nlp(word).vector pour avoir la forme vectorielle du mot word.\n",
    "\n",
    "4. En suivant les étapes données dans la fiche de TP1, récupérez manuellement la liste des quarante mots les plus utilisés dans chacun des deux fichiers et mettez-les dans deux listes difiérentes.\n",
    "\n",
    "5. Les vecteurs sont donnés en 300 dimensions, pour visualiser le résultat souhaité en deux dimensions, utilisez le PCA (Principal Component Analysis). Pour cela, utilisez simplement la suite d'instructions :\n",
    "\n",
    " - from sklearn.decomposition import PCA\n",
    "\n",
    " - pca = PCA(n_components = 2)\n",
    "\n",
    " - pca.fit(get_word_vectors(words1)) (words1 : liste des mots du fichier 1 par exemple)\n",
    "\n",
    " - word_vecs_2d_1 = pca.transform(get_word_vectors(words1))\n",
    "\n",
    "6. A ce niveau, vous avez donc deux listes contenants chacune les quarante mots les plus utilisés dans chaque fichier, et ceci, sous la forme d'un vecteur à deux dimensions. Donnez le code source qui puisse aficher les deux figures suivantes :\n",
    "\n",
    " - Figure 1 : présente les coordonnées de chacun des mots de chacun des deux fichiers (utilisez deux symboles différents pour chaque liste de mots)\n",
    "\n",
    " - Figure 2 : présente les mots correspondant à chacun des deux fichiers (utilisez deux couleurs différentes pour chaque liste de mots)\n",
    "\n",
    "Question :\n",
    "- Que pensez vous des résultats obtenus à l'oeil nu (concernant la similarité des deux fichiers) \n"
   ]
  },
  {
   "cell_type": "markdown",
   "metadata": {},
   "source": [
    "### Improtation des bibliotheques nécéssaires :"
   ]
  },
  {
   "cell_type": "code",
   "execution_count": 5,
   "metadata": {},
   "outputs": [],
   "source": [
    "import spacy\n",
    "import nltk\n",
    "import en_core_web_sm\n",
    "from spacy.tokenizer import Tokenizer\n",
    "from collections import Counter\n",
    "nlp = spacy.load(\"en_core_web_sm\")\n",
    "import numpy as np\n",
    "import gensim \n",
    "from gensim.models import Word2Vec "
   ]
  },
  {
   "cell_type": "code",
   "execution_count": 6,
   "metadata": {},
   "outputs": [],
   "source": [
    "import matplotlib.pyplot as plt"
   ]
  },
  {
   "cell_type": "markdown",
   "metadata": {},
   "source": [
    "# Prétraitement"
   ]
  },
  {
   "cell_type": "code",
   "execution_count": null,
   "metadata": {},
   "outputs": [],
   "source": [
    "fichier1 = list();\n",
    "fichier2 = list();\n",
    "plx = list();\n",
    "ply = list();\n"
   ]
  },
  {
   "cell_type": "markdown",
   "metadata": {},
   "source": [
    "# Fonction de vectorisation :"
   ]
  },
  {
   "cell_type": "code",
   "execution_count": 7,
   "metadata": {},
   "outputs": [],
   "source": [
    "def get_word_vectors(word):\n",
    "    ab = list();\n",
    "    for token in word:\n",
    "        ab.append(nlp(token).vector)\n",
    "    return ab\n"
   ]
  },
  {
   "cell_type": "markdown",
   "metadata": {},
   "source": [
    "# Recuperation des 40 mots les plus utilisé dans le fichier 1 :"
   ]
  },
  {
   "cell_type": "code",
   "execution_count": 8,
   "metadata": {},
   "outputs": [
    {
     "name": "stdout",
     "output_type": "stream",
     "text": [
      "Liste des 40 mots les plus repeter dans le fichier text : ['China', 'air', 'pollution', 'coal', 'quality', 'power', 'year', 'and', 'but', 'global', 'government', 'solar', 'datum', 'country', 'actually', 'energy', 'PM2.5', 'US', 'statistic', 'this', 'clean', 'so', 'environmental', 'course', 'consumption', 'carbon', 'one', 'good', 'people', 'chinese', 'environment', 'policy', 'like', 'fact', 'world', 'in', 'reduction', 'climate', 'emission', 'the']\n"
     ]
    }
   ],
   "source": [
    "file= open(\"Text_01.txt\",\"r\") # Ouvrir le fichier en lecture\n",
    "token_list = []                 # Créer une liste pour les tokens\n",
    "for line in file :\n",
    "    one_line = nlp(line)        # Faire l'analyse de chaque ligne du fichier via la fonction 'nlp'\n",
    "    token_list.extend(one_line) # Ajouter la ligne analysée à la liste 'token_list' via la fonction 'extend'\n",
    "file.close;                     # Fermer le fichier\n",
    "#for token in token_list :       # On peut par exemple afficher les lemmes  de ces tokens\n",
    "    #print(token.lemma_)    \n",
    "\n",
    "list_stopwords = list(spacy.lang.en.stop_words.STOP_WORDS) # Récupérer la liste des stopwords\n",
    "#print(list_stopwords[:])                                   # Affichage des stopwords \n",
    "\n",
    "\n",
    "ponct = [',','.','!','?','\\n',';',':','\"','“','”','‘','(',')',\"'\",'[',']','--','...','/'] # Créer une liste contenant les symboles de ponctuation\n",
    "list_stopwords.extend(ponct)                                                              # Ajouter les ponctuations à la liste des stopwords\n",
    "#print(list_stopwords[:])                                                                  # Afficher la nouvelle liste\n",
    "\n",
    "token_list_filtred1 = [token for token in token_list if token.text not in list_stopwords] # Eliminer les tokens correspondant aux stopwords\n",
    "\n",
    "\n",
    "token_list_filtred2 = [token for token in token_list_filtred1 # Eliminer les pronoms et les verbes\n",
    "                       if token.lemma_ !='-PRON-'\n",
    "                       and token.lemma_ != '-'\n",
    "                       and token.pos_ != 'VERB'\n",
    "                      ]\n",
    "#print(token_list_filtred2)                                    # Afficher la nouvelle liste\n",
    "\n",
    "token_list_filtred2_lemma = [token.lemma_ for token in token_list_filtred2] # Récupérer tous les lèmmes de la nouvelle liste des tokens\n",
    "word_counter = {}                                                           # Créer un dicionnaire\n",
    "for word in token_list_filtred2_lemma:                                      # Compter le nombre d'apparition de chaque lèmme\n",
    "        if word in word_counter:\n",
    "            word_counter[word] += 1\n",
    "        else:\n",
    "            word_counter[word] = 1\n",
    "#print(word_counter)                                                         # Afficher le dicionnaire\n",
    "\n",
    "# Tri des lèmmes en fonction du nombre d'apparition:\n",
    "# --------\n",
    "SortedFiltreLemma=dict();    \n",
    "list_keys = []            \n",
    "for key, value in sorted(word_counter.items(), key=lambda item: item[1],reverse=True):\n",
    "    SortedFiltreLemma[key]=value\n",
    "    list_keys.append(key)\n",
    "    #print(\"%s: %s\" % (key, value))\n",
    "\n",
    "    \n",
    "list_keys_filtred1=list_keys[0:40]\n",
    "print (\"Liste des 40 mots les plus repeter dans le fichier text :\",list_keys_filtred1)\n"
   ]
  },
  {
   "cell_type": "markdown",
   "metadata": {},
   "source": [
    "# Recuperation des 40 mots les plus utilisé dans le fichier 1 :"
   ]
  },
  {
   "cell_type": "code",
   "execution_count": 9,
   "metadata": {},
   "outputs": [
    {
     "name": "stdout",
     "output_type": "stream",
     "text": [
      "Liste des 40 mots les plus repeter dans le fichier text : ['energy', 'relationship', 'and', 'like', 'power', 'problem', 'but', 'coal', 'calorie', 'okay', 'question', 'so', 'plant', 'be', 'thing', 'day', 'the', 'laughter', 'human', 'well', 'electricity', 'good', 'that', 'mile', 'there', 'journalist', 'role', 'here', 'physics', 'smart', 'because', 'insignificant', 'year', 'grid', 'step', 'communication', 'beer', 'ago', 'use', 'then']\n"
     ]
    }
   ],
   "source": [
    "file= open(\"Text_02.txt\",\"r\") # Ouvrir le fichier en lecture\n",
    "token_list = []                 # Créer une liste pour les tokens\n",
    "for line in file :\n",
    "    one_line = nlp(line)        # Faire l'analyse de chaque ligne du fichier via la fonction 'nlp'\n",
    "    token_list.extend(one_line) # Ajouter la ligne analysée à la liste 'token_list' via la fonction 'extend'\n",
    "file.close;                     # Fermer le fichier\n",
    "#for token in token_list :       # On peut par exemple afficher les lemmes  de ces tokens\n",
    "    #print(token.lemma_)    \n",
    "\n",
    "list_stopwords = list(spacy.lang.en.stop_words.STOP_WORDS) # Récupérer la liste des stopwords\n",
    "#print(list_stopwords[:])                                   # Affichage des stopwords \n",
    "\n",
    "\n",
    "ponct = [',','.','!','?','\\n',';',':','\"','“','”','‘','(',')',\"'\",'[',']','--','...','/'] # Créer une liste contenant les symboles de ponctuation\n",
    "list_stopwords.extend(ponct)                                                              # Ajouter les ponctuations à la liste des stopwords\n",
    "#print(list_stopwords[:])                                                                  # Afficher la nouvelle liste\n",
    "\n",
    "token_list_filtred1 = [token for token in token_list if token.text not in list_stopwords] # Eliminer les tokens correspondant aux stopwords\n",
    "\n",
    "\n",
    "token_list_filtred2 = [token for token in token_list_filtred1 # Eliminer les pronoms et les verbes\n",
    "                       if token.lemma_ !='-PRON-'\n",
    "                       and token.lemma_ != '-'\n",
    "                       and token.pos_ != 'VERB'\n",
    "                      ]\n",
    "#print(token_list_filtred2)                                    # Afficher la nouvelle liste\n",
    "\n",
    "token_list_filtred2_lemma = [token.lemma_ for token in token_list_filtred2] # Récupérer tous les lèmmes de la nouvelle liste des tokens\n",
    "word_counter = {}                                                           # Créer un dicionnaire\n",
    "for word in token_list_filtred2_lemma:                                      # Compter le nombre d'apparition de chaque lèmme\n",
    "        if word in word_counter:\n",
    "            word_counter[word] += 1\n",
    "        else:\n",
    "            word_counter[word] = 1\n",
    "#print(word_counter)                                                         # Afficher le dicionnaire\n",
    "\n",
    "# Tri des lèmmes en fonction du nombre d'apparition:\n",
    "# --------\n",
    "SortedFiltreLemma=dict();    \n",
    "list_keys = []            \n",
    "for key, value in sorted(word_counter.items(), key=lambda item: item[1],reverse=True):\n",
    "    SortedFiltreLemma[key]=value\n",
    "    list_keys.append(key)\n",
    "    #print(\"%s: %s\" % (key, value))\n",
    "\n",
    "    \n",
    "list_keys_filtred2=list_keys[0:40]\n",
    "print (\"Liste des 40 mots les plus repeter dans le fichier text :\",list_keys_filtred2)"
   ]
  },
  {
   "cell_type": "markdown",
   "metadata": {},
   "source": [
    "# Reduction de dimession pour le 1er vecteur :"
   ]
  },
  {
   "cell_type": "code",
   "execution_count": 13,
   "metadata": {},
   "outputs": [],
   "source": [
    "from sklearn.decomposition import PCA\n",
    "pca = PCA(n_components = 2)\n",
    "words1 = list()\n",
    "words1 = list_keys_filtred1\n",
    "pca.fit(get_word_vectors(words1)) # (words1 : liste des mots du fichier 1)\n",
    "word_vecs_2d_1 = pca.transform(get_word_vectors(words1))"
   ]
  },
  {
   "cell_type": "markdown",
   "metadata": {},
   "source": [
    "# Reduction de dimession pour le 2eme vecteur :"
   ]
  },
  {
   "cell_type": "code",
   "execution_count": 14,
   "metadata": {},
   "outputs": [],
   "source": [
    "from sklearn.decomposition import PCA\n",
    "pca = PCA(n_components = 2)\n",
    "words2 = list()\n",
    "words2 = list_keys_filtred2\n",
    "pca.fit(get_word_vectors(words2)) # (words2 : liste des mots du fichier 2)\n",
    "word_vecs_2d_2 = pca.transform(get_word_vectors(words2))"
   ]
  },
  {
   "cell_type": "markdown",
   "metadata": {},
   "source": [
    "# Affichage des figures"
   ]
  },
  {
   "cell_type": "code",
   "execution_count": 20,
   "metadata": {},
   "outputs": [
    {
     "data": {
      "text/plain": [
       "[<matplotlib.lines.Line2D at 0xf95c9a8288>]"
      ]
     },
     "execution_count": 20,
     "metadata": {},
     "output_type": "execute_result"
    },
    {
     "data": {
      "image/png": "[encoded data removed]",
      "text/plain": [
       "<Figure size 432x288 with 1 Axes>"
      ]
     },
     "metadata": {
      "needs_background": "light"
     },
     "output_type": "display_data"
    }
   ],
   "source": [
    "plt.plot(word_vecs_2d_1[:,0:1],word_vecs_2d_1[:,1:],\"rX\")\n",
    "plt.plot(word_vecs_2d_2[:,0:1],word_vecs_2d_2[:,1:],\"b.\")"
   ]
  },
  {
   "cell_type": "markdown",
   "metadata": {},
   "source": [
    "# Reponse à la dernière question :"
   ]
  },
  {
   "cell_type": "markdown",
   "metadata": {},
   "source": [
    "La similarité des deux fichier est presque parfaite."
   ]
  }
 ],
 "metadata": {
  "kernelspec": {
   "display_name": "Python 3",
   "language": "python",
   "name": "python3"
  },
  "language_info": {
   "codemirror_mode": {
    "name": "ipython",
    "version": 3
   },
   "file_extension": ".py",
   "mimetype": "text/x-python",
   "name": "python",
   "nbconvert_exporter": "python",
   "pygments_lexer": "ipython3",
   "version": "3.8.3"
  }
 },
 "nbformat": 4,
 "nbformat_minor": 4
}
